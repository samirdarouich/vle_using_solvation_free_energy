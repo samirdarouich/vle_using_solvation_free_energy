{
 "cells": [
  {
   "cell_type": "code",
   "execution_count": 1,
   "id": "a4447de4-ae31-47ec-a622-9c00d7daf5b3",
   "metadata": {
    "tags": []
   },
   "outputs": [],
   "source": [
    "import numpy as np\n",
    "import os\n",
    "import json\n",
    "import subprocess\n",
    "import glob\n",
    "from scipy.constants import Avogadro, Boltzmann, R, epsilon_0,e\n",
    "import matplotlib.pyplot as plt"
   ]
  },
  {
   "cell_type": "code",
   "execution_count": 2,
   "id": "92c2d4c0",
   "metadata": {},
   "outputs": [],
   "source": [
    "lambda_lj_sim = [0.0, 0.125, 0.153, 0.171, 0.186, 0.2, 0.215, 0.233, 0.275, 0.323, 0.4, 0.453, 0.6, 0.8, 1.0] #with BO\n",
    "#lambda_lj_sim = [0.0, 0.082, 0.136, 0.163, 0.181, 0.198, 0.216, 0.237, 0.263, 0.294, 0.332, 0.392, 0.479, 0.607, 1.0] #with interpolate\n",
    "lambda_q_sim  = [1e-9, 1e-9, 1e-9, 1e-9, 1e-9, 1e-9, 1e-9, 1e-9, 1e-9, 1e-9, 1e-9, 1e-9, 1e-9, 1e-9, 1e-9]\n",
    "sim_folder    = \"third_try\"\n",
    "txt           = \"sim_lj\""
   ]
  },
  {
   "cell_type": "code",
   "execution_count": 5,
   "id": "10ffe9b1-21d0-42ca-8c45-8a8ec6bf863e",
   "metadata": {
    "tags": []
   },
   "outputs": [],
   "source": [
    "# Scale charges of input file\n",
    "\n",
    "orig_file = \"ethanol_TI_vdw.input\"#\"ethanol_fep_lj.input\"\n",
    "#orig_file = \"ethanol_fep_coul.input\"\n",
    "\n",
    "a_list1 = [1,2,3,4,5,6]\n",
    "a_list2 = [7,8]\n",
    "\n",
    "with open(\"lammps/%s\"%orig_file) as f_inp:\n",
    "    lines_inp = [line for line in f_inp]\n",
    "\n",
    "idx_lj   = [i for i,line in enumerate(lines_inp) if all([\"lj\" in line,\"pair_coeff\" in line])]\n",
    "idx_coul = [i for i,line in enumerate(lines_inp) if all([\"coul/cut/soft\" in line,\"pair_coeff\" in line])]\n",
    "\n",
    "for j,(l_q,l_lj) in enumerate(zip(lambda_q_sim,lambda_lj_sim)):\n",
    "    \n",
    "    if not os.path.exists(\"lammps/ethanol_water/%s/%s_%d\"%(sim_folder,txt,j)):\n",
    "        os.makedirs(\"lammps/ethanol_water/%s/%s_%d\"%(sim_folder,txt,j))\n",
    "    \n",
    "    for i,line in enumerate(lines_inp[idx_lj[0]:idx_lj[-1]+1]):\n",
    "        if len(line.split())==7:\n",
    "            old = line.split()[-1]\n",
    "            if float(old) != 1.0:\n",
    "                lines_inp[idx_lj[0]+i] = line.replace(old,str(l_lj))\n",
    "                \n",
    "    for i,line in enumerate(lines_inp[idx_coul[0]:idx_coul[-1]+1]):\n",
    "        old = line.split()[-1]\n",
    "        tmp = str(np.round((1-l_q**2)/l_q**2,20))\n",
    "        lines_inp[idx_coul[0]+i] = line.replace(old,tmp)\n",
    "    \n",
    "    try:\n",
    "        # change scaling parameter\n",
    "\n",
    "        idx = [i for i,line in enumerate(lines_inp) if \"variable qi equal\" in line][0]\n",
    "        old = lines_inp[idx].split()[3]\n",
    "        lines_inp[idx] = lines_inp[idx].replace(old,str(l_q))\n",
    "\n",
    "    except:\n",
    "        pass\n",
    "\n",
    "    try:\n",
    "        # change scaling parameter for compute fep accordingly to lambda_q\n",
    "\n",
    "        idx = [i for i,line in enumerate(lines_inp) if \"variable dlambda_c equal\" in line][0]\n",
    "        old = lines_inp[idx].split()[3]\n",
    "        lines_inp[idx] = lines_inp[idx].replace(old,str((1+l_q)/l_q-1))\n",
    "    except:\n",
    "        pass\n",
    "    \n",
    "    try:\n",
    "        # change lambda scaling parameter to compensate A-A interactions in compute FEP\n",
    "        \n",
    "        idx = [i for i,line in enumerate(lines_inp) if \"variable lambda equal\" in line][0]\n",
    "        old = lines_inp[idx].split()[3]\n",
    "        if \"sim_lj\" in txt:\n",
    "            lines_inp[idx] = lines_inp[idx].replace(old,str(l_lj))\n",
    "        else:\n",
    "            lines_inp[idx] = lines_inp[idx].replace(old,str(l_q))\n",
    "        \n",
    "    except:\n",
    "        pass\n",
    "\n",
    "    # change output name\n",
    "    \n",
    "    if \"sim_lj\" in txt:\n",
    "        idx = [i for i,line in enumerate(lines_inp) if \"fep_lj.fep\" in line][0]\n",
    "        lines_inp[idx] = lines_inp[idx].replace(\"xy\",\"%s%s\"%(j,j+1))\n",
    "    else:\n",
    "        idx = [i for i,line in enumerate(lines_inp) if \"fep_coul.fep\" in line][0]\n",
    "        lines_inp[idx] = lines_inp[idx].replace(\"xy\",\"%s%s\"%(j,j+1))\n",
    "\n",
    "    with open(\"lammps/ethanol_water/%s/%s_%d/\"%(sim_folder,txt,j)+\"ethanol.input\",\"w\") as f_out:\n",
    "        f_out.writelines(lines_inp)\n",
    "\n",
    "    with open(\"lammps/%s\"%orig_file) as f_inp:\n",
    "        lines_inp = [line for line in f_inp]"
   ]
  }
 ],
 "metadata": {
  "kernelspec": {
   "display_name": "Python 3 (ipykernel)",
   "language": "python",
   "name": "python3"
  },
  "language_info": {
   "codemirror_mode": {
    "name": "ipython",
    "version": 3
   },
   "file_extension": ".py",
   "mimetype": "text/x-python",
   "name": "python",
   "nbconvert_exporter": "python",
   "pygments_lexer": "ipython3",
   "version": "3.10.11"
  }
 },
 "nbformat": 4,
 "nbformat_minor": 5
}
