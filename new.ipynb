{
 "cells": [
  {
   "cell_type": "code",
   "execution_count": 1,
   "metadata": {},
   "outputs": [
    {
     "name": "stderr",
     "output_type": "stream",
     "text": [
      "Warning on use of the timeseries module: If the inherent timescales of the system are long compared to those being analyzed, this statistical inefficiency may be an underestimate.  The estimate presumes the use of many statistically independent samples.  Tests should be performed to assess whether this condition is satisfied.   Be cautious in the interpretation of the data.\n",
      "\n",
      "********* JAX NOT FOUND *********\n",
      " PyMBAR can run faster with JAX  \n",
      " But will work fine without it   \n",
      "Either install with pip or conda:\n",
      "      pip install pybar[jax]     \n",
      "               OR                \n",
      "      conda install pymbar       \n",
      "*********************************\n"
     ]
    }
   ],
   "source": [
    "from pyLAMMPS import LAMMPS_setup"
   ]
  },
  {
   "cell_type": "code",
   "execution_count": 2,
   "metadata": {},
   "outputs": [],
   "source": [
    "lammps_setup = LAMMPS_setup( system_setup = \"test/input/setup_eoh_wat.yaml\", \n",
    "                             simulation_default = \"test/input/defaults.yaml\",\n",
    "                             simulation_ensemble = \"test/input/ensemble.yaml\",\n",
    "                             simulation_sampling = \"test/input/sampling.yaml\",\n",
    "                             submission_command = \"sbatch\"\n",
    "                            )"
   ]
  },
  {
   "cell_type": "code",
   "execution_count": null,
   "metadata": {},
   "outputs": [],
   "source": [
    "folder_name = \"water_pure\"\n",
    "solute = \"ethanol\"\n",
    "combined_lambdas = [ 0.0, 0.1, 0.2, 0.25, 0.275, 0.3, 0.325, 0.35, 0.4, \n",
    "                     0.5, 0.7, 0.9, 1.0, 1.1, 1.3, 1.5, 1.7, 1.9, 2.0 \n",
    "                    ]\n",
    "\n",
    "coupling_settings_file = \"test/input/coupling_settings.yaml\"\n",
    "ensembles = [ \"em\", \"npt\", \"npt\" ]\n",
    "simulation_times = [ 0.0, 8.0, 10.0 ]\n",
    "\n",
    "initial_systems = [ \"/home/st/st_us-041610/st_ac137577/software/vle_using_solvation_free_energy/test/eoh_wat/water_pure/ethanol/temp_298.1_pres_1.0/build/system.data\" ]\n",
    "\n",
    "lammps_setup.prepare_coupling_simulation( folder_name = folder_name, solute = solute, combined_lambdas = combined_lambdas,\n",
    "                                          coupling_settings_file = coupling_settings_file, ensembles = ensembles, \n",
    "                                          simulation_times = simulation_times, initial_systems = initial_systems\n",
    "                                        )"
   ]
  },
  {
   "cell_type": "code",
   "execution_count": null,
   "metadata": {},
   "outputs": [],
   "source": [
    "lammps_setup.submit_simulation()"
   ]
  },
  {
   "cell_type": "code",
   "execution_count": null,
   "metadata": {},
   "outputs": [
    {
     "name": "stdout",
     "output_type": "stream",
     "text": [
      "\n",
      "Extract solvation free energy results for solute: ethanol\n",
      "\n",
      "Temperature: 298.15, Pressure: 1.01325\n",
      "   /home/st/st_us-041610/st_ac137577/software/vle_using_solvation_free_energy/test/eoh_wat/water_pure/ethanol/temp_298.1_pres_1.0/copy_0/lambda_0/01_npt/npt.fep\n",
      "   /home/st/st_us-041610/st_ac137577/software/vle_using_solvation_free_energy/test/eoh_wat/water_pure/ethanol/temp_298.1_pres_1.0/copy_0/lambda_1/01_npt/npt.fep\n",
      "   /home/st/st_us-041610/st_ac137577/software/vle_using_solvation_free_energy/test/eoh_wat/water_pure/ethanol/temp_298.1_pres_1.0/copy_0/lambda_2/01_npt/npt.fep\n",
      "   /home/st/st_us-041610/st_ac137577/software/vle_using_solvation_free_energy/test/eoh_wat/water_pure/ethanol/temp_298.1_pres_1.0/copy_0/lambda_3/01_npt/npt.fep\n",
      "   /home/st/st_us-041610/st_ac137577/software/vle_using_solvation_free_energy/test/eoh_wat/water_pure/ethanol/temp_298.1_pres_1.0/copy_0/lambda_4/01_npt/npt.fep\n",
      "   /home/st/st_us-041610/st_ac137577/software/vle_using_solvation_free_energy/test/eoh_wat/water_pure/ethanol/temp_298.1_pres_1.0/copy_0/lambda_5/01_npt/npt.fep\n",
      "   /home/st/st_us-041610/st_ac137577/software/vle_using_solvation_free_energy/test/eoh_wat/water_pure/ethanol/temp_298.1_pres_1.0/copy_0/lambda_6/01_npt/npt.fep\n",
      "   /home/st/st_us-041610/st_ac137577/software/vle_using_solvation_free_energy/test/eoh_wat/water_pure/ethanol/temp_298.1_pres_1.0/copy_0/lambda_7/01_npt/npt.fep\n",
      "   /home/st/st_us-041610/st_ac137577/software/vle_using_solvation_free_energy/test/eoh_wat/water_pure/ethanol/temp_298.1_pres_1.0/copy_0/lambda_8/01_npt/npt.fep\n",
      "   /home/st/st_us-041610/st_ac137577/software/vle_using_solvation_free_energy/test/eoh_wat/water_pure/ethanol/temp_298.1_pres_1.0/copy_0/lambda_9/01_npt/npt.fep\n",
      "   /home/st/st_us-041610/st_ac137577/software/vle_using_solvation_free_energy/test/eoh_wat/water_pure/ethanol/temp_298.1_pres_1.0/copy_0/lambda_10/01_npt/npt.fep\n",
      "   /home/st/st_us-041610/st_ac137577/software/vle_using_solvation_free_energy/test/eoh_wat/water_pure/ethanol/temp_298.1_pres_1.0/copy_0/lambda_11/01_npt/npt.fep\n",
      "   /home/st/st_us-041610/st_ac137577/software/vle_using_solvation_free_energy/test/eoh_wat/water_pure/ethanol/temp_298.1_pres_1.0/copy_0/lambda_12/01_npt/npt.fep\n",
      "   /home/st/st_us-041610/st_ac137577/software/vle_using_solvation_free_energy/test/eoh_wat/water_pure/ethanol/temp_298.1_pres_1.0/copy_0/lambda_13/01_npt/npt.fep\n",
      "   /home/st/st_us-041610/st_ac137577/software/vle_using_solvation_free_energy/test/eoh_wat/water_pure/ethanol/temp_298.1_pres_1.0/copy_0/lambda_14/01_npt/npt.fep\n",
      "   /home/st/st_us-041610/st_ac137577/software/vle_using_solvation_free_energy/test/eoh_wat/water_pure/ethanol/temp_298.1_pres_1.0/copy_0/lambda_15/01_npt/npt.fep\n",
      "   /home/st/st_us-041610/st_ac137577/software/vle_using_solvation_free_energy/test/eoh_wat/water_pure/ethanol/temp_298.1_pres_1.0/copy_0/lambda_16/01_npt/npt.fep\n",
      "   /home/st/st_us-041610/st_ac137577/software/vle_using_solvation_free_energy/test/eoh_wat/water_pure/ethanol/temp_298.1_pres_1.0/copy_0/lambda_17/01_npt/npt.fep\n",
      "   /home/st/st_us-041610/st_ac137577/software/vle_using_solvation_free_energy/test/eoh_wat/water_pure/ethanol/temp_298.1_pres_1.0/copy_0/lambda_18/01_npt/npt.fep\n",
      "\n"
     ]
    },
    {
     "name": "stderr",
     "output_type": "stream",
     "text": [
      "\u001b[32m2024-04-26 14:04:28.584\u001b[0m | \u001b[34m\u001b[1mDEBUG   \u001b[0m | \u001b[36malchemlyb.preprocessing.subsampling\u001b[0m:\u001b[36mstatistical_inefficiency\u001b[0m:\u001b[36m520\u001b[0m - \u001b[34m\u001b[1mRunning statistical inefficiency analysis.\u001b[0m\n",
      "\u001b[32m2024-04-26 14:04:28.613\u001b[0m | \u001b[34m\u001b[1mDEBUG   \u001b[0m | \u001b[36malchemlyb.preprocessing.subsampling\u001b[0m:\u001b[36mstatistical_inefficiency\u001b[0m:\u001b[36m522\u001b[0m - \u001b[34m\u001b[1mStatistical inefficiency: 1.06.\u001b[0m\n",
      "\u001b[32m2024-04-26 14:04:28.614\u001b[0m | \u001b[34m\u001b[1mDEBUG   \u001b[0m | \u001b[36malchemlyb.preprocessing.subsampling\u001b[0m:\u001b[36mstatistical_inefficiency\u001b[0m:\u001b[36m528\u001b[0m - \u001b[34m\u001b[1mNumber of uncorrelated samples: 3000.\u001b[0m\n",
      "\u001b[32m2024-04-26 14:04:28.910\u001b[0m | \u001b[34m\u001b[1mDEBUG   \u001b[0m | \u001b[36malchemlyb.preprocessing.subsampling\u001b[0m:\u001b[36mstatistical_inefficiency\u001b[0m:\u001b[36m520\u001b[0m - \u001b[34m\u001b[1mRunning statistical inefficiency analysis.\u001b[0m\n",
      "\u001b[32m2024-04-26 14:04:28.911\u001b[0m | \u001b[34m\u001b[1mDEBUG   \u001b[0m | \u001b[36malchemlyb.preprocessing.subsampling\u001b[0m:\u001b[36mstatistical_inefficiency\u001b[0m:\u001b[36m522\u001b[0m - \u001b[34m\u001b[1mStatistical inefficiency: 1.13.\u001b[0m\n",
      "\u001b[32m2024-04-26 14:04:28.912\u001b[0m | \u001b[34m\u001b[1mDEBUG   \u001b[0m | \u001b[36malchemlyb.preprocessing.subsampling\u001b[0m:\u001b[36mstatistical_inefficiency\u001b[0m:\u001b[36m528\u001b[0m - \u001b[34m\u001b[1mNumber of uncorrelated samples: 3000.\u001b[0m\n",
      "\u001b[32m2024-04-26 14:04:29.303\u001b[0m | \u001b[34m\u001b[1mDEBUG   \u001b[0m | \u001b[36malchemlyb.preprocessing.subsampling\u001b[0m:\u001b[36mstatistical_inefficiency\u001b[0m:\u001b[36m520\u001b[0m - \u001b[34m\u001b[1mRunning statistical inefficiency analysis.\u001b[0m\n",
      "\u001b[32m2024-04-26 14:04:29.304\u001b[0m | \u001b[34m\u001b[1mDEBUG   \u001b[0m | \u001b[36malchemlyb.preprocessing.subsampling\u001b[0m:\u001b[36mstatistical_inefficiency\u001b[0m:\u001b[36m522\u001b[0m - \u001b[34m\u001b[1mStatistical inefficiency: 1.14.\u001b[0m\n",
      "\u001b[32m2024-04-26 14:04:29.305\u001b[0m | \u001b[34m\u001b[1mDEBUG   \u001b[0m | \u001b[36malchemlyb.preprocessing.subsampling\u001b[0m:\u001b[36mstatistical_inefficiency\u001b[0m:\u001b[36m528\u001b[0m - \u001b[34m\u001b[1mNumber of uncorrelated samples: 3000.\u001b[0m\n",
      "\u001b[32m2024-04-26 14:04:29.488\u001b[0m | \u001b[34m\u001b[1mDEBUG   \u001b[0m | \u001b[36malchemlyb.preprocessing.subsampling\u001b[0m:\u001b[36mstatistical_inefficiency\u001b[0m:\u001b[36m520\u001b[0m - \u001b[34m\u001b[1mRunning statistical inefficiency analysis.\u001b[0m\n",
      "\u001b[32m2024-04-26 14:04:29.489\u001b[0m | \u001b[34m\u001b[1mDEBUG   \u001b[0m | \u001b[36malchemlyb.preprocessing.subsampling\u001b[0m:\u001b[36mstatistical_inefficiency\u001b[0m:\u001b[36m522\u001b[0m - \u001b[34m\u001b[1mStatistical inefficiency: 1.05.\u001b[0m\n",
      "\u001b[32m2024-04-26 14:04:29.490\u001b[0m | \u001b[34m\u001b[1mDEBUG   \u001b[0m | \u001b[36malchemlyb.preprocessing.subsampling\u001b[0m:\u001b[36mstatistical_inefficiency\u001b[0m:\u001b[36m528\u001b[0m - \u001b[34m\u001b[1mNumber of uncorrelated samples: 3000.\u001b[0m\n",
      "\u001b[32m2024-04-26 14:04:29.875\u001b[0m | \u001b[34m\u001b[1mDEBUG   \u001b[0m | \u001b[36malchemlyb.preprocessing.subsampling\u001b[0m:\u001b[36mstatistical_inefficiency\u001b[0m:\u001b[36m520\u001b[0m - \u001b[34m\u001b[1mRunning statistical inefficiency analysis.\u001b[0m\n",
      "\u001b[32m2024-04-26 14:04:29.876\u001b[0m | \u001b[34m\u001b[1mDEBUG   \u001b[0m | \u001b[36malchemlyb.preprocessing.subsampling\u001b[0m:\u001b[36mstatistical_inefficiency\u001b[0m:\u001b[36m522\u001b[0m - \u001b[34m\u001b[1mStatistical inefficiency: 1.22.\u001b[0m\n",
      "\u001b[32m2024-04-26 14:04:29.877\u001b[0m | \u001b[34m\u001b[1mDEBUG   \u001b[0m | \u001b[36malchemlyb.preprocessing.subsampling\u001b[0m:\u001b[36mstatistical_inefficiency\u001b[0m:\u001b[36m528\u001b[0m - \u001b[34m\u001b[1mNumber of uncorrelated samples: 3000.\u001b[0m\n",
      "\u001b[32m2024-04-26 14:04:30.116\u001b[0m | \u001b[34m\u001b[1mDEBUG   \u001b[0m | \u001b[36malchemlyb.preprocessing.subsampling\u001b[0m:\u001b[36mstatistical_inefficiency\u001b[0m:\u001b[36m520\u001b[0m - \u001b[34m\u001b[1mRunning statistical inefficiency analysis.\u001b[0m\n",
      "\u001b[32m2024-04-26 14:04:30.117\u001b[0m | \u001b[34m\u001b[1mDEBUG   \u001b[0m | \u001b[36malchemlyb.preprocessing.subsampling\u001b[0m:\u001b[36mstatistical_inefficiency\u001b[0m:\u001b[36m522\u001b[0m - \u001b[34m\u001b[1mStatistical inefficiency: 1.30.\u001b[0m\n",
      "\u001b[32m2024-04-26 14:04:30.118\u001b[0m | \u001b[34m\u001b[1mDEBUG   \u001b[0m | \u001b[36malchemlyb.preprocessing.subsampling\u001b[0m:\u001b[36mstatistical_inefficiency\u001b[0m:\u001b[36m528\u001b[0m - \u001b[34m\u001b[1mNumber of uncorrelated samples: 3000.\u001b[0m\n",
      "\u001b[32m2024-04-26 14:04:30.283\u001b[0m | \u001b[34m\u001b[1mDEBUG   \u001b[0m | \u001b[36malchemlyb.preprocessing.subsampling\u001b[0m:\u001b[36mstatistical_inefficiency\u001b[0m:\u001b[36m520\u001b[0m - \u001b[34m\u001b[1mRunning statistical inefficiency analysis.\u001b[0m\n",
      "\u001b[32m2024-04-26 14:04:30.284\u001b[0m | \u001b[34m\u001b[1mDEBUG   \u001b[0m | \u001b[36malchemlyb.preprocessing.subsampling\u001b[0m:\u001b[36mstatistical_inefficiency\u001b[0m:\u001b[36m522\u001b[0m - \u001b[34m\u001b[1mStatistical inefficiency: 1.59.\u001b[0m\n",
      "\u001b[32m2024-04-26 14:04:30.285\u001b[0m | \u001b[34m\u001b[1mDEBUG   \u001b[0m | \u001b[36malchemlyb.preprocessing.subsampling\u001b[0m:\u001b[36mstatistical_inefficiency\u001b[0m:\u001b[36m528\u001b[0m - \u001b[34m\u001b[1mNumber of uncorrelated samples: 3000.\u001b[0m\n",
      "\u001b[32m2024-04-26 14:04:30.465\u001b[0m | \u001b[34m\u001b[1mDEBUG   \u001b[0m | \u001b[36malchemlyb.preprocessing.subsampling\u001b[0m:\u001b[36mstatistical_inefficiency\u001b[0m:\u001b[36m520\u001b[0m - \u001b[34m\u001b[1mRunning statistical inefficiency analysis.\u001b[0m\n",
      "\u001b[32m2024-04-26 14:04:30.466\u001b[0m | \u001b[34m\u001b[1mDEBUG   \u001b[0m | \u001b[36malchemlyb.preprocessing.subsampling\u001b[0m:\u001b[36mstatistical_inefficiency\u001b[0m:\u001b[36m522\u001b[0m - \u001b[34m\u001b[1mStatistical inefficiency: 2.28.\u001b[0m\n",
      "\u001b[32m2024-04-26 14:04:30.467\u001b[0m | \u001b[34m\u001b[1mDEBUG   \u001b[0m | \u001b[36malchemlyb.preprocessing.subsampling\u001b[0m:\u001b[36mstatistical_inefficiency\u001b[0m:\u001b[36m528\u001b[0m - \u001b[34m\u001b[1mNumber of uncorrelated samples: 2000.\u001b[0m\n",
      "\u001b[32m2024-04-26 14:04:30.858\u001b[0m | \u001b[34m\u001b[1mDEBUG   \u001b[0m | \u001b[36malchemlyb.preprocessing.subsampling\u001b[0m:\u001b[36mstatistical_inefficiency\u001b[0m:\u001b[36m520\u001b[0m - \u001b[34m\u001b[1mRunning statistical inefficiency analysis.\u001b[0m\n",
      "\u001b[32m2024-04-26 14:04:30.859\u001b[0m | \u001b[34m\u001b[1mDEBUG   \u001b[0m | \u001b[36malchemlyb.preprocessing.subsampling\u001b[0m:\u001b[36mstatistical_inefficiency\u001b[0m:\u001b[36m522\u001b[0m - \u001b[34m\u001b[1mStatistical inefficiency: 1.69.\u001b[0m\n",
      "\u001b[32m2024-04-26 14:04:30.860\u001b[0m | \u001b[34m\u001b[1mDEBUG   \u001b[0m | \u001b[36malchemlyb.preprocessing.subsampling\u001b[0m:\u001b[36mstatistical_inefficiency\u001b[0m:\u001b[36m528\u001b[0m - \u001b[34m\u001b[1mNumber of uncorrelated samples: 3000.\u001b[0m\n",
      "\u001b[32m2024-04-26 14:04:31.017\u001b[0m | \u001b[34m\u001b[1mDEBUG   \u001b[0m | \u001b[36malchemlyb.preprocessing.subsampling\u001b[0m:\u001b[36mstatistical_inefficiency\u001b[0m:\u001b[36m520\u001b[0m - \u001b[34m\u001b[1mRunning statistical inefficiency analysis.\u001b[0m\n",
      "\u001b[32m2024-04-26 14:04:31.019\u001b[0m | \u001b[34m\u001b[1mDEBUG   \u001b[0m | \u001b[36malchemlyb.preprocessing.subsampling\u001b[0m:\u001b[36mstatistical_inefficiency\u001b[0m:\u001b[36m522\u001b[0m - \u001b[34m\u001b[1mStatistical inefficiency: 1.59.\u001b[0m\n",
      "\u001b[32m2024-04-26 14:04:31.019\u001b[0m | \u001b[34m\u001b[1mDEBUG   \u001b[0m | \u001b[36malchemlyb.preprocessing.subsampling\u001b[0m:\u001b[36mstatistical_inefficiency\u001b[0m:\u001b[36m528\u001b[0m - \u001b[34m\u001b[1mNumber of uncorrelated samples: 3000.\u001b[0m\n",
      "\u001b[32m2024-04-26 14:04:31.179\u001b[0m | \u001b[34m\u001b[1mDEBUG   \u001b[0m | \u001b[36malchemlyb.preprocessing.subsampling\u001b[0m:\u001b[36mstatistical_inefficiency\u001b[0m:\u001b[36m520\u001b[0m - \u001b[34m\u001b[1mRunning statistical inefficiency analysis.\u001b[0m\n",
      "\u001b[32m2024-04-26 14:04:31.181\u001b[0m | \u001b[34m\u001b[1mDEBUG   \u001b[0m | \u001b[36malchemlyb.preprocessing.subsampling\u001b[0m:\u001b[36mstatistical_inefficiency\u001b[0m:\u001b[36m522\u001b[0m - \u001b[34m\u001b[1mStatistical inefficiency: 1.36.\u001b[0m\n",
      "\u001b[32m2024-04-26 14:04:31.182\u001b[0m | \u001b[34m\u001b[1mDEBUG   \u001b[0m | \u001b[36malchemlyb.preprocessing.subsampling\u001b[0m:\u001b[36mstatistical_inefficiency\u001b[0m:\u001b[36m528\u001b[0m - \u001b[34m\u001b[1mNumber of uncorrelated samples: 3000.\u001b[0m\n",
      "\u001b[32m2024-04-26 14:04:31.359\u001b[0m | \u001b[34m\u001b[1mDEBUG   \u001b[0m | \u001b[36malchemlyb.preprocessing.subsampling\u001b[0m:\u001b[36mstatistical_inefficiency\u001b[0m:\u001b[36m520\u001b[0m - \u001b[34m\u001b[1mRunning statistical inefficiency analysis.\u001b[0m\n",
      "\u001b[32m2024-04-26 14:04:31.360\u001b[0m | \u001b[34m\u001b[1mDEBUG   \u001b[0m | \u001b[36malchemlyb.preprocessing.subsampling\u001b[0m:\u001b[36mstatistical_inefficiency\u001b[0m:\u001b[36m522\u001b[0m - \u001b[34m\u001b[1mStatistical inefficiency: 1.58.\u001b[0m\n",
      "\u001b[32m2024-04-26 14:04:31.360\u001b[0m | \u001b[34m\u001b[1mDEBUG   \u001b[0m | \u001b[36malchemlyb.preprocessing.subsampling\u001b[0m:\u001b[36mstatistical_inefficiency\u001b[0m:\u001b[36m528\u001b[0m - \u001b[34m\u001b[1mNumber of uncorrelated samples: 3000.\u001b[0m\n",
      "\u001b[32m2024-04-26 14:04:31.524\u001b[0m | \u001b[34m\u001b[1mDEBUG   \u001b[0m | \u001b[36malchemlyb.preprocessing.subsampling\u001b[0m:\u001b[36mstatistical_inefficiency\u001b[0m:\u001b[36m520\u001b[0m - \u001b[34m\u001b[1mRunning statistical inefficiency analysis.\u001b[0m\n",
      "\u001b[32m2024-04-26 14:04:31.525\u001b[0m | \u001b[34m\u001b[1mDEBUG   \u001b[0m | \u001b[36malchemlyb.preprocessing.subsampling\u001b[0m:\u001b[36mstatistical_inefficiency\u001b[0m:\u001b[36m522\u001b[0m - \u001b[34m\u001b[1mStatistical inefficiency: 1.77.\u001b[0m\n",
      "\u001b[32m2024-04-26 14:04:31.526\u001b[0m | \u001b[34m\u001b[1mDEBUG   \u001b[0m | \u001b[36malchemlyb.preprocessing.subsampling\u001b[0m:\u001b[36mstatistical_inefficiency\u001b[0m:\u001b[36m528\u001b[0m - \u001b[34m\u001b[1mNumber of uncorrelated samples: 3000.\u001b[0m\n",
      "\u001b[32m2024-04-26 14:04:31.752\u001b[0m | \u001b[34m\u001b[1mDEBUG   \u001b[0m | \u001b[36malchemlyb.preprocessing.subsampling\u001b[0m:\u001b[36mstatistical_inefficiency\u001b[0m:\u001b[36m520\u001b[0m - \u001b[34m\u001b[1mRunning statistical inefficiency analysis.\u001b[0m\n",
      "\u001b[32m2024-04-26 14:04:31.753\u001b[0m | \u001b[34m\u001b[1mDEBUG   \u001b[0m | \u001b[36malchemlyb.preprocessing.subsampling\u001b[0m:\u001b[36mstatistical_inefficiency\u001b[0m:\u001b[36m522\u001b[0m - \u001b[34m\u001b[1mStatistical inefficiency: 1.76.\u001b[0m\n",
      "\u001b[32m2024-04-26 14:04:31.753\u001b[0m | \u001b[34m\u001b[1mDEBUG   \u001b[0m | \u001b[36malchemlyb.preprocessing.subsampling\u001b[0m:\u001b[36mstatistical_inefficiency\u001b[0m:\u001b[36m528\u001b[0m - \u001b[34m\u001b[1mNumber of uncorrelated samples: 3000.\u001b[0m\n",
      "\u001b[32m2024-04-26 14:04:32.195\u001b[0m | \u001b[34m\u001b[1mDEBUG   \u001b[0m | \u001b[36malchemlyb.preprocessing.subsampling\u001b[0m:\u001b[36mstatistical_inefficiency\u001b[0m:\u001b[36m520\u001b[0m - \u001b[34m\u001b[1mRunning statistical inefficiency analysis.\u001b[0m\n",
      "\u001b[32m2024-04-26 14:04:32.196\u001b[0m | \u001b[34m\u001b[1mDEBUG   \u001b[0m | \u001b[36malchemlyb.preprocessing.subsampling\u001b[0m:\u001b[36mstatistical_inefficiency\u001b[0m:\u001b[36m522\u001b[0m - \u001b[34m\u001b[1mStatistical inefficiency: 1.68.\u001b[0m\n",
      "\u001b[32m2024-04-26 14:04:32.197\u001b[0m | \u001b[34m\u001b[1mDEBUG   \u001b[0m | \u001b[36malchemlyb.preprocessing.subsampling\u001b[0m:\u001b[36mstatistical_inefficiency\u001b[0m:\u001b[36m528\u001b[0m - \u001b[34m\u001b[1mNumber of uncorrelated samples: 3000.\u001b[0m\n",
      "\u001b[32m2024-04-26 14:04:32.371\u001b[0m | \u001b[34m\u001b[1mDEBUG   \u001b[0m | \u001b[36malchemlyb.preprocessing.subsampling\u001b[0m:\u001b[36mstatistical_inefficiency\u001b[0m:\u001b[36m520\u001b[0m - \u001b[34m\u001b[1mRunning statistical inefficiency analysis.\u001b[0m\n",
      "\u001b[32m2024-04-26 14:04:32.373\u001b[0m | \u001b[34m\u001b[1mDEBUG   \u001b[0m | \u001b[36malchemlyb.preprocessing.subsampling\u001b[0m:\u001b[36mstatistical_inefficiency\u001b[0m:\u001b[36m522\u001b[0m - \u001b[34m\u001b[1mStatistical inefficiency: 1.52.\u001b[0m\n",
      "\u001b[32m2024-04-26 14:04:32.373\u001b[0m | \u001b[34m\u001b[1mDEBUG   \u001b[0m | \u001b[36malchemlyb.preprocessing.subsampling\u001b[0m:\u001b[36mstatistical_inefficiency\u001b[0m:\u001b[36m528\u001b[0m - \u001b[34m\u001b[1mNumber of uncorrelated samples: 3000.\u001b[0m\n",
      "\u001b[32m2024-04-26 14:04:32.550\u001b[0m | \u001b[34m\u001b[1mDEBUG   \u001b[0m | \u001b[36malchemlyb.preprocessing.subsampling\u001b[0m:\u001b[36mstatistical_inefficiency\u001b[0m:\u001b[36m520\u001b[0m - \u001b[34m\u001b[1mRunning statistical inefficiency analysis.\u001b[0m\n",
      "\u001b[32m2024-04-26 14:04:32.551\u001b[0m | \u001b[34m\u001b[1mDEBUG   \u001b[0m | \u001b[36malchemlyb.preprocessing.subsampling\u001b[0m:\u001b[36mstatistical_inefficiency\u001b[0m:\u001b[36m522\u001b[0m - \u001b[34m\u001b[1mStatistical inefficiency: 1.62.\u001b[0m\n",
      "\u001b[32m2024-04-26 14:04:32.551\u001b[0m | \u001b[34m\u001b[1mDEBUG   \u001b[0m | \u001b[36malchemlyb.preprocessing.subsampling\u001b[0m:\u001b[36mstatistical_inefficiency\u001b[0m:\u001b[36m528\u001b[0m - \u001b[34m\u001b[1mNumber of uncorrelated samples: 3000.\u001b[0m\n",
      "\u001b[32m2024-04-26 14:04:32.786\u001b[0m | \u001b[34m\u001b[1mDEBUG   \u001b[0m | \u001b[36malchemlyb.preprocessing.subsampling\u001b[0m:\u001b[36mstatistical_inefficiency\u001b[0m:\u001b[36m520\u001b[0m - \u001b[34m\u001b[1mRunning statistical inefficiency analysis.\u001b[0m\n",
      "\u001b[32m2024-04-26 14:04:32.787\u001b[0m | \u001b[34m\u001b[1mDEBUG   \u001b[0m | \u001b[36malchemlyb.preprocessing.subsampling\u001b[0m:\u001b[36mstatistical_inefficiency\u001b[0m:\u001b[36m522\u001b[0m - \u001b[34m\u001b[1mStatistical inefficiency: 1.61.\u001b[0m\n",
      "\u001b[32m2024-04-26 14:04:32.788\u001b[0m | \u001b[34m\u001b[1mDEBUG   \u001b[0m | \u001b[36malchemlyb.preprocessing.subsampling\u001b[0m:\u001b[36mstatistical_inefficiency\u001b[0m:\u001b[36m528\u001b[0m - \u001b[34m\u001b[1mNumber of uncorrelated samples: 3000.\u001b[0m\n",
      "\u001b[32m2024-04-26 14:04:33.157\u001b[0m | \u001b[34m\u001b[1mDEBUG   \u001b[0m | \u001b[36malchemlyb.preprocessing.subsampling\u001b[0m:\u001b[36mstatistical_inefficiency\u001b[0m:\u001b[36m520\u001b[0m - \u001b[34m\u001b[1mRunning statistical inefficiency analysis.\u001b[0m\n",
      "\u001b[32m2024-04-26 14:04:33.159\u001b[0m | \u001b[34m\u001b[1mDEBUG   \u001b[0m | \u001b[36malchemlyb.preprocessing.subsampling\u001b[0m:\u001b[36mstatistical_inefficiency\u001b[0m:\u001b[36m522\u001b[0m - \u001b[34m\u001b[1mStatistical inefficiency: 1.66.\u001b[0m\n",
      "\u001b[32m2024-04-26 14:04:33.159\u001b[0m | \u001b[34m\u001b[1mDEBUG   \u001b[0m | \u001b[36malchemlyb.preprocessing.subsampling\u001b[0m:\u001b[36mstatistical_inefficiency\u001b[0m:\u001b[36m528\u001b[0m - \u001b[34m\u001b[1mNumber of uncorrelated samples: 3000.\u001b[0m\n"
     ]
    },
    {
     "name": "stdout",
     "output_type": "stream",
     "text": [
      "\n",
      "Following combined lambda states were analysed with the 'TI' method:\n",
      "   0.0, 0.1, 0.2, 0.25, 0.275, 0.3, 0.325, 0.35, 0.4, 0.5, 0.7, 0.9, 1.0, 1.1, 1.3, 1.5, 1.7, 1.9, 2.0\n",
      "\n",
      "Averaged values over all copies:\n",
      "\n",
      "                 property          mean        std    unit\n",
      "0  solvation_free_energy -29009.447185  95.158802  kJ/mol \n",
      "\n"
     ]
    }
   ],
   "source": [
    "lammps_setup.analysis_free_energy( analysis_folder = \"water_pure\", \n",
    "                                   solute = \"ethanol\", \n",
    "                                   ensemble = \"02_npt\",\n",
    "                                   method = \"TI\",\n",
    "                                   fraction = 0.0,\n",
    "                                   visualize = True )"
   ]
  },
  {
   "cell_type": "code",
   "execution_count": null,
   "metadata": {},
   "outputs": [],
   "source": []
  }
 ],
 "metadata": {
  "kernelspec": {
   "display_name": "py311",
   "language": "python",
   "name": "python3"
  },
  "language_info": {
   "codemirror_mode": {
    "name": "ipython",
    "version": 3
   },
   "file_extension": ".py",
   "mimetype": "text/x-python",
   "name": "python",
   "nbconvert_exporter": "python",
   "pygments_lexer": "ipython3",
   "version": "3.11.8"
  }
 },
 "nbformat": 4,
 "nbformat_minor": 2
}
