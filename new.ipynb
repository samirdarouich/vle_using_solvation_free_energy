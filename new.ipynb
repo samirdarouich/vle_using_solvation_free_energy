{
 "cells": [
  {
   "cell_type": "code",
   "execution_count": 1,
   "metadata": {},
   "outputs": [
    {
     "name": "stderr",
     "output_type": "stream",
     "text": [
      "Warning on use of the timeseries module: If the inherent timescales of the system are long compared to those being analyzed, this statistical inefficiency may be an underestimate.  The estimate presumes the use of many statistically independent samples.  Tests should be performed to assess whether this condition is satisfied.   Be cautious in the interpretation of the data.\n",
      "\n",
      "********* JAX NOT FOUND *********\n",
      " PyMBAR can run faster with JAX  \n",
      " But will work fine without it   \n",
      "Either install with pip or conda:\n",
      "      pip install pybar[jax]     \n",
      "               OR                \n",
      "      conda install pymbar       \n",
      "*********************************\n"
     ]
    }
   ],
   "source": [
    "from pyLAMMPS import LAMMPS_setup"
   ]
  },
  {
   "cell_type": "code",
   "execution_count": 2,
   "metadata": {},
   "outputs": [],
   "source": [
    "lammps_setup = LAMMPS_setup( system_setup = \"test/input/setup_lj.yaml\", \n",
    "                             simulation_default = \"test/input/defaults.yaml\",\n",
    "                             simulation_ensemble = \"test/input/ensemble.yaml\",\n",
    "                             simulation_sampling = \"test/input/sampling.yaml\",\n",
    "                             submission_command = \"sbatch\"\n",
    "                            )"
   ]
  },
  {
   "cell_type": "code",
   "execution_count": null,
   "metadata": {},
   "outputs": [],
   "source": [
    "folder_name = \"water_pure\"\n",
    "solute = \"ethanol\"\n",
    "combined_lambdas = [ 0.0, 0.1, 0.2, 0.25, 0.275, 0.3, 0.325, 0.35, 0.4, \n",
    "                     0.5, 0.7, 0.9, 1.0, 1.1, 1.3, 1.5, 1.7, 1.9, 2.0 \n",
    "                    ]\n",
    "\n",
    "coupling_settings_file = \"test/input/coupling_settings.yaml\"\n",
    "ensembles = [ \"em\", \"npt\", \"npt\" ]\n",
    "simulation_times = [ 0.0, 8.0, 10.0 ]\n",
    "\n",
    "initial_systems = [ \"/home/st/st_us-041610/st_ac137577/software/vle_using_solvation_free_energy/test/eoh_wat/water_pure/ethanol/temp_298.1_pres_1.0/build/system.data\" ]\n",
    "\n",
    "lammps_setup.prepare_coupling_simulation( folder_name = folder_name, solute = solute, combined_lambdas = combined_lambdas,\n",
    "                                          coupling_settings_file = coupling_settings_file, ensembles = ensembles, \n",
    "                                          simulation_times = simulation_times, initial_systems = initial_systems\n",
    "                                        )"
   ]
  },
  {
   "cell_type": "code",
   "execution_count": null,
   "metadata": {},
   "outputs": [],
   "source": [
    "lammps_setup.submit_simulation()"
   ]
  },
  {
   "cell_type": "code",
   "execution_count": 3,
   "metadata": {},
   "outputs": [
    {
     "name": "stderr",
     "output_type": "stream",
     "text": [
      "\u001b[32m2024-04-20 14:20:04.050\u001b[0m | \u001b[34m\u001b[1mDEBUG   \u001b[0m | \u001b[36malchemlyb.preprocessing.subsampling\u001b[0m:\u001b[36mstatistical_inefficiency\u001b[0m:\u001b[36m520\u001b[0m - \u001b[34m\u001b[1mRunning statistical inefficiency analysis.\u001b[0m\n",
      "\u001b[32m2024-04-20 14:20:04.051\u001b[0m | \u001b[34m\u001b[1mDEBUG   \u001b[0m | \u001b[36malchemlyb.preprocessing.subsampling\u001b[0m:\u001b[36mstatistical_inefficiency\u001b[0m:\u001b[36m522\u001b[0m - \u001b[34m\u001b[1mStatistical inefficiency: 1.19.\u001b[0m\n",
      "\u001b[32m2024-04-20 14:20:04.052\u001b[0m | \u001b[34m\u001b[1mDEBUG   \u001b[0m | \u001b[36malchemlyb.preprocessing.subsampling\u001b[0m:\u001b[36mstatistical_inefficiency\u001b[0m:\u001b[36m528\u001b[0m - \u001b[34m\u001b[1mNumber of uncorrelated samples: 5000.\u001b[0m\n",
      "\u001b[32m2024-04-20 14:20:04.081\u001b[0m | \u001b[34m\u001b[1mDEBUG   \u001b[0m | \u001b[36malchemlyb.preprocessing.subsampling\u001b[0m:\u001b[36mstatistical_inefficiency\u001b[0m:\u001b[36m520\u001b[0m - \u001b[34m\u001b[1mRunning statistical inefficiency analysis.\u001b[0m\n",
      "\u001b[32m2024-04-20 14:20:04.082\u001b[0m | \u001b[34m\u001b[1mDEBUG   \u001b[0m | \u001b[36malchemlyb.preprocessing.subsampling\u001b[0m:\u001b[36mstatistical_inefficiency\u001b[0m:\u001b[36m522\u001b[0m - \u001b[34m\u001b[1mStatistical inefficiency: 1.59.\u001b[0m\n",
      "\u001b[32m2024-04-20 14:20:04.083\u001b[0m | \u001b[34m\u001b[1mDEBUG   \u001b[0m | \u001b[36malchemlyb.preprocessing.subsampling\u001b[0m:\u001b[36mstatistical_inefficiency\u001b[0m:\u001b[36m528\u001b[0m - \u001b[34m\u001b[1mNumber of uncorrelated samples: 5000.\u001b[0m\n",
      "\u001b[32m2024-04-20 14:20:04.111\u001b[0m | \u001b[34m\u001b[1mDEBUG   \u001b[0m | \u001b[36malchemlyb.preprocessing.subsampling\u001b[0m:\u001b[36mstatistical_inefficiency\u001b[0m:\u001b[36m520\u001b[0m - \u001b[34m\u001b[1mRunning statistical inefficiency analysis.\u001b[0m\n",
      "\u001b[32m2024-04-20 14:20:04.112\u001b[0m | \u001b[34m\u001b[1mDEBUG   \u001b[0m | \u001b[36malchemlyb.preprocessing.subsampling\u001b[0m:\u001b[36mstatistical_inefficiency\u001b[0m:\u001b[36m522\u001b[0m - \u001b[34m\u001b[1mStatistical inefficiency: 2.40.\u001b[0m\n",
      "\u001b[32m2024-04-20 14:20:04.113\u001b[0m | \u001b[34m\u001b[1mDEBUG   \u001b[0m | \u001b[36malchemlyb.preprocessing.subsampling\u001b[0m:\u001b[36mstatistical_inefficiency\u001b[0m:\u001b[36m528\u001b[0m - \u001b[34m\u001b[1mNumber of uncorrelated samples: 3333.\u001b[0m\n",
      "\u001b[32m2024-04-20 14:20:04.139\u001b[0m | \u001b[34m\u001b[1mDEBUG   \u001b[0m | \u001b[36malchemlyb.preprocessing.subsampling\u001b[0m:\u001b[36mstatistical_inefficiency\u001b[0m:\u001b[36m520\u001b[0m - \u001b[34m\u001b[1mRunning statistical inefficiency analysis.\u001b[0m\n",
      "\u001b[32m2024-04-20 14:20:04.141\u001b[0m | \u001b[34m\u001b[1mDEBUG   \u001b[0m | \u001b[36malchemlyb.preprocessing.subsampling\u001b[0m:\u001b[36mstatistical_inefficiency\u001b[0m:\u001b[36m522\u001b[0m - \u001b[34m\u001b[1mStatistical inefficiency: 1.38.\u001b[0m\n",
      "\u001b[32m2024-04-20 14:20:04.141\u001b[0m | \u001b[34m\u001b[1mDEBUG   \u001b[0m | \u001b[36malchemlyb.preprocessing.subsampling\u001b[0m:\u001b[36mstatistical_inefficiency\u001b[0m:\u001b[36m528\u001b[0m - \u001b[34m\u001b[1mNumber of uncorrelated samples: 5000.\u001b[0m\n",
      "\u001b[32m2024-04-20 14:20:04.168\u001b[0m | \u001b[34m\u001b[1mDEBUG   \u001b[0m | \u001b[36malchemlyb.preprocessing.subsampling\u001b[0m:\u001b[36mstatistical_inefficiency\u001b[0m:\u001b[36m520\u001b[0m - \u001b[34m\u001b[1mRunning statistical inefficiency analysis.\u001b[0m\n",
      "\u001b[32m2024-04-20 14:20:04.169\u001b[0m | \u001b[34m\u001b[1mDEBUG   \u001b[0m | \u001b[36malchemlyb.preprocessing.subsampling\u001b[0m:\u001b[36mstatistical_inefficiency\u001b[0m:\u001b[36m522\u001b[0m - \u001b[34m\u001b[1mStatistical inefficiency: 1.92.\u001b[0m\n",
      "\u001b[32m2024-04-20 14:20:04.169\u001b[0m | \u001b[34m\u001b[1mDEBUG   \u001b[0m | \u001b[36malchemlyb.preprocessing.subsampling\u001b[0m:\u001b[36mstatistical_inefficiency\u001b[0m:\u001b[36m528\u001b[0m - \u001b[34m\u001b[1mNumber of uncorrelated samples: 5000.\u001b[0m\n",
      "\u001b[32m2024-04-20 14:20:04.198\u001b[0m | \u001b[34m\u001b[1mDEBUG   \u001b[0m | \u001b[36malchemlyb.preprocessing.subsampling\u001b[0m:\u001b[36mstatistical_inefficiency\u001b[0m:\u001b[36m520\u001b[0m - \u001b[34m\u001b[1mRunning statistical inefficiency analysis.\u001b[0m\n",
      "\u001b[32m2024-04-20 14:20:04.199\u001b[0m | \u001b[34m\u001b[1mDEBUG   \u001b[0m | \u001b[36malchemlyb.preprocessing.subsampling\u001b[0m:\u001b[36mstatistical_inefficiency\u001b[0m:\u001b[36m522\u001b[0m - \u001b[34m\u001b[1mStatistical inefficiency: 4.56.\u001b[0m\n",
      "\u001b[32m2024-04-20 14:20:04.200\u001b[0m | \u001b[34m\u001b[1mDEBUG   \u001b[0m | \u001b[36malchemlyb.preprocessing.subsampling\u001b[0m:\u001b[36mstatistical_inefficiency\u001b[0m:\u001b[36m528\u001b[0m - \u001b[34m\u001b[1mNumber of uncorrelated samples: 2000.\u001b[0m\n"
     ]
    },
    {
     "name": "stdout",
     "output_type": "stream",
     "text": [
      "\n",
      "Extract solvation free energy results for solute: lj1\n",
      "\n",
      "Temperature: 89.88, Pressure: 7.84\n",
      "   /home/st/st_us-041610/st_ac137577/software/vle_using_solvation_free_energy/test/lj1_pure/test0/temp_89.9_pres_7.8/copy_0/lambda_0/01_npt/npt.fep\n",
      "   /home/st/st_us-041610/st_ac137577/software/vle_using_solvation_free_energy/test/lj1_pure/test0/temp_89.9_pres_7.8/copy_0/lambda_1/01_npt/npt.fep\n",
      "   /home/st/st_us-041610/st_ac137577/software/vle_using_solvation_free_energy/test/lj1_pure/test0/temp_89.9_pres_7.8/copy_0/lambda_2/01_npt/npt.fep\n",
      "   /home/st/st_us-041610/st_ac137577/software/vle_using_solvation_free_energy/test/lj1_pure/test0/temp_89.9_pres_7.8/copy_0/lambda_3/01_npt/npt.fep\n",
      "   /home/st/st_us-041610/st_ac137577/software/vle_using_solvation_free_energy/test/lj1_pure/test0/temp_89.9_pres_7.8/copy_0/lambda_4/01_npt/npt.fep\n",
      "   /home/st/st_us-041610/st_ac137577/software/vle_using_solvation_free_energy/test/lj1_pure/test0/temp_89.9_pres_7.8/copy_0/lambda_5/01_npt/npt.fep\n",
      "\n",
      "\n",
      "Following combined lambda states are analysed:\n",
      "   0.0, 0.1, 0.3, 0.5, 0.7, 1.0\n",
      "\n",
      "Averaged values over all copies:\n",
      "\n",
      "                 property        mean        std    unit\n",
      "0  solvation_free_energy -2588.53353  38.774669  kJ/mol \n",
      "\n"
     ]
    }
   ],
   "source": [
    "lammps_setup.analysis_free_energy( \"test0\", \"lj1\", \"01_npt\", \"TI\" )"
   ]
  },
  {
   "cell_type": "code",
   "execution_count": 9,
   "metadata": {},
   "outputs": [
    {
     "data": {
      "text/plain": [
       "[0.0,\n",
       " 0.1,\n",
       " 0.2,\n",
       " 0.25,\n",
       " 0.275,\n",
       " 0.3,\n",
       " 0.325,\n",
       " 0.35,\n",
       " 0.4,\n",
       " 0.5,\n",
       " 0.7,\n",
       " 0.9,\n",
       " 1.0,\n",
       " 1.1,\n",
       " 1.3,\n",
       " 1.5,\n",
       " 1.7,\n",
       " 1.9,\n",
       " 2.0]"
      ]
     },
     "execution_count": 9,
     "metadata": {},
     "output_type": "execute_result"
    }
   ],
   "source": [
    "from itertools import groupby\n",
    "import re\n",
    "import glob\n",
    "from pyLAMMPS.analysis.solvation_free_energy import extract_current_state\n",
    "\n",
    "\n",
    "\n",
    "p = \"/home/st/st_us-041610/st_ac137577/software/vle_using_solvation_free_energy/test/lj1_pure/test0/temp_89.9_pres_7.8/copy_*/*/01_npt/npt.fep\"\n",
    "p = \"/home/st/st_us-041610/st_ac137577/software/vle_using_solvation_free_energy/test/eoh_wat/water_pure/ethanol/temp_298.1_pres_1.0/copy_*/*/01_npt/npt.fep\"\n",
    "files = glob.glob(p)\n",
    "\n",
    "\n",
    "\n",
    "\n",
    "\n",
    "combined_states"
   ]
  },
  {
   "cell_type": "code",
   "execution_count": null,
   "metadata": {},
   "outputs": [],
   "source": []
  }
 ],
 "metadata": {
  "kernelspec": {
   "display_name": "py311",
   "language": "python",
   "name": "python3"
  },
  "language_info": {
   "codemirror_mode": {
    "name": "ipython",
    "version": 3
   },
   "file_extension": ".py",
   "mimetype": "text/x-python",
   "name": "python",
   "nbconvert_exporter": "python",
   "pygments_lexer": "ipython3",
   "version": "3.11.8"
  }
 },
 "nbformat": 4,
 "nbformat_minor": 2
}
